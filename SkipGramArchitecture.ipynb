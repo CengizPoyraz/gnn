{
  "nbformat": 4,
  "nbformat_minor": 0,
  "metadata": {
    "colab": {
      "provenance": [],
      "authorship_tag": "ABX9TyOn2j/7y0dY6ys7o8vT3Iru",
      "include_colab_link": true
    },
    "kernelspec": {
      "name": "python3",
      "display_name": "Python 3"
    },
    "language_info": {
      "name": "python"
    }
  },
  "cells": [
    {
      "cell_type": "markdown",
      "metadata": {
        "id": "view-in-github",
        "colab_type": "text"
      },
      "source": [
        "<a href=\"https://colab.research.google.com/github/CengizPoyraz/gnn/blob/main/SkipGramArchitecture.ipynb\" target=\"_parent\"><img src=\"https://colab.research.google.com/assets/colab-badge.svg\" alt=\"Open In Colab\"/></a>"
      ]
    },
    {
      "cell_type": "code",
      "execution_count": 1,
      "metadata": {
        "id": "c6pyMjBVf-0i"
      },
      "outputs": [],
      "source": [
        "!pip install -qU gensim"
      ]
    },
    {
      "cell_type": "code",
      "source": [
        "import numpy as np\n",
        "np.random.seed(0)"
      ],
      "metadata": {
        "id": "ZmIE4x8hgGu7"
      },
      "execution_count": 4,
      "outputs": []
    },
    {
      "cell_type": "code",
      "source": [
        "CONTEXT_SIZE = 2\n",
        "\n",
        "text = \"\"\"We are about to study the idea of a computational process.\n",
        "Computational processes are abstract beings that inhabit computers.\n",
        "As they evolve, processes manipulate other abstract things called data.\n",
        "The evolution of a process is directed by a pattern of rules\n",
        "called a program. People create programs to direct processes.\"\"\".split()"
      ],
      "metadata": {
        "id": "lFxmbE-wgMjz"
      },
      "execution_count": 5,
      "outputs": []
    },
    {
      "cell_type": "code",
      "source": [
        "text"
      ],
      "metadata": {
        "colab": {
          "base_uri": "https://localhost:8080/"
        },
        "id": "pPZNtijhgXoi",
        "outputId": "eeaa2362-65d2-4092-c249-11594da3d30d"
      },
      "execution_count": 6,
      "outputs": [
        {
          "output_type": "execute_result",
          "data": {
            "text/plain": [
              "['We',\n",
              " 'are',\n",
              " 'about',\n",
              " 'to',\n",
              " 'study',\n",
              " 'the',\n",
              " 'idea',\n",
              " 'of',\n",
              " 'a',\n",
              " 'computational',\n",
              " 'process.',\n",
              " 'Computational',\n",
              " 'processes',\n",
              " 'are',\n",
              " 'abstract',\n",
              " 'beings',\n",
              " 'that',\n",
              " 'inhabit',\n",
              " 'computers.',\n",
              " 'As',\n",
              " 'they',\n",
              " 'evolve,',\n",
              " 'processes',\n",
              " 'manipulate',\n",
              " 'other',\n",
              " 'abstract',\n",
              " 'things',\n",
              " 'called',\n",
              " 'data.',\n",
              " 'The',\n",
              " 'evolution',\n",
              " 'of',\n",
              " 'a',\n",
              " 'process',\n",
              " 'is',\n",
              " 'directed',\n",
              " 'by',\n",
              " 'a',\n",
              " 'pattern',\n",
              " 'of',\n",
              " 'rules',\n",
              " 'called',\n",
              " 'a',\n",
              " 'program.',\n",
              " 'People',\n",
              " 'create',\n",
              " 'programs',\n",
              " 'to',\n",
              " 'direct',\n",
              " 'processes.']"
            ]
          },
          "metadata": {},
          "execution_count": 6
        }
      ]
    },
    {
      "cell_type": "code",
      "source": [
        "len(text)"
      ],
      "metadata": {
        "colab": {
          "base_uri": "https://localhost:8080/"
        },
        "id": "UKQK-EougZVJ",
        "outputId": "05836259-786e-4252-b7d6-a2dbb5c83c4c"
      },
      "execution_count": 7,
      "outputs": [
        {
          "output_type": "execute_result",
          "data": {
            "text/plain": [
              "50"
            ]
          },
          "metadata": {},
          "execution_count": 7
        }
      ]
    },
    {
      "cell_type": "code",
      "source": [
        "skipgram = []\n",
        "for i in range(CONTEXT_SIZE, len(text) - CONTEXT_SIZE):\n",
        "    array = [text[j] for j in np.arange(i- CONTEXT_SIZE, i + CONTEXT_SIZE + 1) if j != i]\n",
        "    skipgram.append((text[i], array))\n",
        "print(skipgram[0:2])"
      ],
      "metadata": {
        "colab": {
          "base_uri": "https://localhost:8080/"
        },
        "id": "zPfQzKESgbM6",
        "outputId": "05b18e05-2a2a-4c91-803d-8bd95038eb35"
      },
      "execution_count": 8,
      "outputs": [
        {
          "output_type": "stream",
          "name": "stdout",
          "text": [
            "[('about', ['We', 'are', 'to', 'study']), ('to', ['are', 'about', 'study', 'the'])]\n"
          ]
        }
      ]
    },
    {
      "cell_type": "code",
      "source": [
        "from gensim.models.word2vec import Word2Vec"
      ],
      "metadata": {
        "id": "AsQAyXcfhQL7"
      },
      "execution_count": 9,
      "outputs": []
    },
    {
      "cell_type": "code",
      "source": [
        "model = Word2Vec([text],\n",
        "                 sg = 1,\n",
        "                 vector_size=10,\n",
        "                 min_count=0,\n",
        "                 window=2,\n",
        "                 workers=1,\n",
        "                 seed=0)\n",
        "print(f\"Shape of W_embed: {model.wv.vectors.shape}\")\n",
        "model.train([text], total_examples=model.corpus_count, epochs=10)\n",
        "\n",
        "print(\"\\nWord Embedding =\")\n",
        "print(model.wv[0])"
      ],
      "metadata": {
        "colab": {
          "base_uri": "https://localhost:8080/"
        },
        "id": "dmmF2425RGmJ",
        "outputId": "abb4e7bf-159f-4fd0-dd21-fcc1ac60941c"
      },
      "execution_count": 13,
      "outputs": [
        {
          "output_type": "stream",
          "name": "stderr",
          "text": [
            "WARNING:gensim.models.word2vec:Effective 'alpha' higher than previous training cycles\n"
          ]
        },
        {
          "output_type": "stream",
          "name": "stdout",
          "text": [
            "Shape of W_embed: (40, 10)\n",
            "\n",
            "Word Embedding =\n",
            "[ 0.06975099  0.02852899  0.00406944 -0.04689807 -0.03650749 -0.08927201\n",
            " -0.08714306 -0.09624058 -0.06513567  0.06364725]\n"
          ]
        }
      ]
    },
    {
      "cell_type": "code",
      "source": [],
      "metadata": {
        "id": "LAoY57r1RhwS"
      },
      "execution_count": null,
      "outputs": []
    }
  ]
}