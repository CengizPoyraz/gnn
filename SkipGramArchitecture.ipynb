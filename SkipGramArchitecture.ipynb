{
  "nbformat": 4,
  "nbformat_minor": 0,
  "metadata": {
    "colab": {
      "provenance": [],
      "authorship_tag": "ABX9TyNjXmHHz2qAC+0z1Kwm+eDg",
      "include_colab_link": true
    },
    "kernelspec": {
      "name": "python3",
      "display_name": "Python 3"
    },
    "language_info": {
      "name": "python"
    }
  },
  "cells": [
    {
      "cell_type": "markdown",
      "metadata": {
        "id": "view-in-github",
        "colab_type": "text"
      },
      "source": [
        "<a href=\"https://colab.research.google.com/github/CengizPoyraz/gnn/blob/main/SkipGramArchitecture.ipynb\" target=\"_parent\"><img src=\"https://colab.research.google.com/assets/colab-badge.svg\" alt=\"Open In Colab\"/></a>"
      ]
    },
    {
      "cell_type": "code",
      "execution_count": 1,
      "metadata": {
        "id": "c6pyMjBVf-0i"
      },
      "outputs": [],
      "source": [
        "!pip install -qU gensim"
      ]
    },
    {
      "cell_type": "code",
      "source": [
        "import numpy as np\n",
        "np.random.seed(0)"
      ],
      "metadata": {
        "id": "ZmIE4x8hgGu7"
      },
      "execution_count": 2,
      "outputs": []
    },
    {
      "cell_type": "code",
      "source": [
        "CONTEXT_SIZE = 2\n",
        "\n",
        "text = \"\"\"We are about to study the idea of a computational process.\n",
        "Computational processes are abstract beings that inhabit computers.\n",
        "As they evolve, processes manipulate other abstract things called data.\n",
        "The evolution of a process is directed by a pattern of rules\n",
        "called a program. People create programs to direct processes.\"\"\".split()"
      ],
      "metadata": {
        "id": "lFxmbE-wgMjz"
      },
      "execution_count": 3,
      "outputs": []
    },
    {
      "cell_type": "code",
      "source": [
        "text"
      ],
      "metadata": {
        "colab": {
          "base_uri": "https://localhost:8080/"
        },
        "id": "pPZNtijhgXoi",
        "outputId": "670ef562-3745-48b6-e594-578b930dac30"
      },
      "execution_count": 4,
      "outputs": [
        {
          "output_type": "execute_result",
          "data": {
            "text/plain": [
              "['We',\n",
              " 'are',\n",
              " 'about',\n",
              " 'to',\n",
              " 'study',\n",
              " 'the',\n",
              " 'idea',\n",
              " 'of',\n",
              " 'a',\n",
              " 'computational',\n",
              " 'process.',\n",
              " 'Computational',\n",
              " 'processes',\n",
              " 'are',\n",
              " 'abstract',\n",
              " 'beings',\n",
              " 'that',\n",
              " 'inhabit',\n",
              " 'computers.',\n",
              " 'As',\n",
              " 'they',\n",
              " 'evolve,',\n",
              " 'processes',\n",
              " 'manipulate',\n",
              " 'other',\n",
              " 'abstract',\n",
              " 'things',\n",
              " 'called',\n",
              " 'data.',\n",
              " 'The',\n",
              " 'evolution',\n",
              " 'of',\n",
              " 'a',\n",
              " 'process',\n",
              " 'is',\n",
              " 'directed',\n",
              " 'by',\n",
              " 'a',\n",
              " 'pattern',\n",
              " 'of',\n",
              " 'rules',\n",
              " 'called',\n",
              " 'a',\n",
              " 'program.',\n",
              " 'People',\n",
              " 'create',\n",
              " 'programs',\n",
              " 'to',\n",
              " 'direct',\n",
              " 'processes.']"
            ]
          },
          "metadata": {},
          "execution_count": 4
        }
      ]
    },
    {
      "cell_type": "code",
      "source": [
        "len(text)"
      ],
      "metadata": {
        "colab": {
          "base_uri": "https://localhost:8080/"
        },
        "id": "UKQK-EougZVJ",
        "outputId": "684cbb7e-6d47-4349-ca45-b62bece9d683"
      },
      "execution_count": 5,
      "outputs": [
        {
          "output_type": "execute_result",
          "data": {
            "text/plain": [
              "50"
            ]
          },
          "metadata": {},
          "execution_count": 5
        }
      ]
    },
    {
      "cell_type": "code",
      "source": [
        "skipgram = []\n",
        "for i in range(CONTEXT_SIZE, len(text) - CONTEXT_SIZE):\n",
        "    array = [text[j] for j in np.arange(i- CONTEXT_SIZE, i + CONTEXT_SIZE + 1) if j != i]\n",
        "    skipgram.append((text[i], array))\n",
        "print(skipgram[0:2])"
      ],
      "metadata": {
        "colab": {
          "base_uri": "https://localhost:8080/"
        },
        "id": "zPfQzKESgbM6",
        "outputId": "70efb942-5d6e-44ef-eda2-e2a68df5d86e"
      },
      "execution_count": 6,
      "outputs": [
        {
          "output_type": "stream",
          "name": "stdout",
          "text": [
            "[('about', ['We', 'are', 'to', 'study']), ('to', ['are', 'about', 'study', 'the'])]\n"
          ]
        }
      ]
    },
    {
      "cell_type": "code",
      "source": [],
      "metadata": {
        "id": "AsQAyXcfhQL7"
      },
      "execution_count": null,
      "outputs": []
    }
  ]
}